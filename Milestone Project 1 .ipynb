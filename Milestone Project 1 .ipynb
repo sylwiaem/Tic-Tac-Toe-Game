{
    "cells": [
        {
            "cell_type": "markdown",
            "metadata": {
                "collapsed": true
            },
            "source": "### TIC TAC TOE GAME"
        },
        {
            "cell_type": "code",
            "execution_count": 1,
            "metadata": {},
            "outputs": [],
            "source": "from IPython.display import clear_output\n\ndef display_board(board):\n    \n    clear_output()\n    \n    print(board[7] + '|' + board[8] + '|' + board[9])\n    print('-' + '|' + '-' + '|' + '-' )\n    print(board[4] + '|' + board[5] + '|' + board[6])\n    print('-' + '|' + '-' + '|' + '-' )\n    print(board[1] + '|' + board[2] + '|' + board[3])"
        },
        {
            "cell_type": "code",
            "execution_count": 2,
            "metadata": {},
            "outputs": [
                {
                    "name": "stdout",
                    "output_type": "stream",
                    "text": "X|O|X\n-|-|-\nO|X|O\n-|-|-\nX|O|X\n"
                }
            ],
            "source": "test_board = ['#','X','O','X','O','X','O','X','O','X']\ndisplay_board(test_board)"
        },
        {
            "cell_type": "code",
            "execution_count": 1,
            "metadata": {},
            "outputs": [],
            "source": "def player_input():\n    \n    marker = ''\n    \n    while marker != 'X' and marker != 'O':\n        marker = input('Player 1, choose X or O: ').upper()\n        \n    \n    \n    if marker == 'X':\n        \n        return('X', 'O')\n    else:\n        return('O', 'X')"
        },
        {
            "cell_type": "code",
            "execution_count": 2,
            "metadata": {},
            "outputs": [
                {
                    "name": "stdout",
                    "output_type": "stream",
                    "text": "Player 1, choose X or O: X\n"
                }
            ],
            "source": "player1_marker, player2_marker = player_input()"
        },
        {
            "cell_type": "code",
            "execution_count": 5,
            "metadata": {},
            "outputs": [
                {
                    "data": {
                        "text/plain": "'O'"
                    },
                    "execution_count": 5,
                    "metadata": {},
                    "output_type": "execute_result"
                }
            ],
            "source": "player2_marker"
        },
        {
            "cell_type": "code",
            "execution_count": 6,
            "metadata": {},
            "outputs": [],
            "source": "def place_marker(board, marker, position):\n    \n    board[position] = marker"
        },
        {
            "cell_type": "code",
            "execution_count": 7,
            "metadata": {},
            "outputs": [
                {
                    "name": "stdout",
                    "output_type": "stream",
                    "text": "X|$|X\n-|-|-\nO|X|O\n-|-|-\nX|O|X\n"
                }
            ],
            "source": "place_marker(test_board,'$',8)\ndisplay_board(test_board)"
        },
        {
            "cell_type": "code",
            "execution_count": 8,
            "metadata": {},
            "outputs": [],
            "source": "def win_check(board, mark):\n    \n    \n    \n    # CHECK FOR ALL ROWS\n    return((board[1] == mark and board[2] == mark and board[3] == mark) or \n    (board[4] == mark and board[5] == mark and board[6] == mark) or \n    (board[7] == mark and board[8] == mark and board[9] == mark) or \n    # CHECK FOR ALL COLUMNS\n    (board[1] == mark and board[4] == mark and board[7] == mark) or \n    (board[2] == mark and board[5] == mark and board[8] == mark) or \n    (board[3] == mark and board[6] == mark and board[9] == mark) or \n    \n    # CHECK FOR DIAGONALS\n    \n    (board[1] == mark and board[5] == mark and board[9] == mark) or \n    (board[3] == mark and board[5] == mark and board[7] == mark))"
        },
        {
            "cell_type": "code",
            "execution_count": 9,
            "metadata": {},
            "outputs": [
                {
                    "data": {
                        "text/plain": "True"
                    },
                    "execution_count": 9,
                    "metadata": {},
                    "output_type": "execute_result"
                }
            ],
            "source": "win_check(test_board,'X')"
        },
        {
            "cell_type": "code",
            "execution_count": 10,
            "metadata": {},
            "outputs": [],
            "source": "import random\n\ndef choose_first():\n    \n    result = random.randint(1,2)\n    \n    if result == 1:\n        \n        return \"Player 1\"\n    else:\n        return \"Player 2\""
        },
        {
            "cell_type": "code",
            "execution_count": 11,
            "metadata": {},
            "outputs": [],
            "source": "def space_check(board, position):\n    \n    return board[position] == ' '"
        },
        {
            "cell_type": "code",
            "execution_count": 12,
            "metadata": {},
            "outputs": [
                {
                    "data": {
                        "text/plain": "False"
                    },
                    "execution_count": 12,
                    "metadata": {},
                    "output_type": "execute_result"
                }
            ],
            "source": "space_check(test_board, 7)"
        },
        {
            "cell_type": "code",
            "execution_count": 13,
            "metadata": {},
            "outputs": [],
            "source": "def full_board_check(board):\n    \n    for i in range(1,10):\n        if space_check(board, i):\n            return False\n    return True"
        },
        {
            "cell_type": "code",
            "execution_count": 14,
            "metadata": {},
            "outputs": [
                {
                    "data": {
                        "text/plain": "True"
                    },
                    "execution_count": 14,
                    "metadata": {},
                    "output_type": "execute_result"
                }
            ],
            "source": "full_board_check(test_board)"
        },
        {
            "cell_type": "code",
            "execution_count": 15,
            "metadata": {},
            "outputs": [],
            "source": "def player_choice(board):\n    \n    position = 0\n    \n    while position not in [1,2,3,4,5,6,7,8,9] or not space_check(board,position):\n        \n        position = int(input('Please choose your position from 1-9: '))\n        \n    return position"
        },
        {
            "cell_type": "code",
            "execution_count": null,
            "metadata": {},
            "outputs": [],
            "source": ""
        },
        {
            "cell_type": "code",
            "execution_count": 16,
            "metadata": {},
            "outputs": [],
            "source": "def replay():\n    \n    choice = input('Do you want to play again? Chooce Yes or No: ')\n    \n    return choice == \"Yes\"\n        \n        "
        },
        {
            "cell_type": "code",
            "execution_count": 17,
            "metadata": {},
            "outputs": [
                {
                    "name": "stdout",
                    "output_type": "stream",
                    "text": "Do you want to play again? Chooce Yes or No: Yes\n"
                },
                {
                    "data": {
                        "text/plain": "True"
                    },
                    "execution_count": 17,
                    "metadata": {},
                    "output_type": "execute_result"
                }
            ],
            "source": "replay()"
        },
        {
            "cell_type": "code",
            "execution_count": 19,
            "metadata": {},
            "outputs": [
                {
                    "name": "stdout",
                    "output_type": "stream",
                    "text": " |X|O\n-|-|-\n |O| \n-|-|-\nO| |X\nPlayer 2 won!\nDo you want to play again? Chooce Yes or No: Y\n"
                }
            ],
            "source": "print('Welcome to Tic Tac Toe!')\n\nwhile True:\n    \n    the_board = [' ']*10\n    player1_marker, player2_marker = player_input()\n    turn = choose_first()\n    print(turn + 'will go first')\n    \n    play_game = input(\"Ready to play a game? y or n\")\n    \n    if play_game == 'y':\n        game_on = True\n    else: \n        game_on = False\n        \n    while game_on:\n        \n        if turn == \"Player 1\":\n            \n            display_board(the_board)\n            \n            position = player_choice(the_board)\n            \n            place_marker(the_board, player1_marker, position)\n            \n            if win_check(the_board, player1_marker):\n                display_board(the_board)\n                print('Player 1 won!')\n                game_on = False\n            else: \n                if full_board_check(the_board):\n                    display_board(the_board)\n                    print(\"The game is a Tie\")\n                    game_on = False\n                else:\n                    turn = 'Player 2'\n                    \n        else:\n            \n            display_board(the_board)\n            \n            position = player_choice(the_board)\n            \n            place_marker(the_board, player2_marker, position)\n            \n            if win_check(the_board, player2_marker):\n                display_board(the_board)\n                print('Player 2 won!')\n                game_on = False\n            else: \n                if full_board_check(the_board):\n                    display_board(the_board)\n                    print(\"The game is a Tie\")\n                    game_on = False\n                else:\n                    turn = 'Player 1'\n            \n\n    if not replay():\n        break"
        },
        {
            "cell_type": "code",
            "execution_count": null,
            "metadata": {},
            "outputs": [],
            "source": ""
        }
    ],
    "metadata": {
        "kernelspec": {
            "display_name": "Python 3.6",
            "language": "python",
            "name": "python3"
        },
        "language_info": {
            "codemirror_mode": {
                "name": "ipython",
                "version": 3
            },
            "file_extension": ".py",
            "mimetype": "text/x-python",
            "name": "python",
            "nbconvert_exporter": "python",
            "pygments_lexer": "ipython3",
            "version": "3.6.9"
        }
    },
    "nbformat": 4,
    "nbformat_minor": 1
}